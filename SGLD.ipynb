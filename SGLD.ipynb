{
 "cells": [
  {
   "cell_type": "markdown",
   "id": "b1a4f475-2ba3-4683-99a4-3a01c9c00db5",
   "metadata": {},
   "source": [
    "## SGLD, constant stepsize, one sample\n",
    "do not CV"
   ]
  },
  {
   "cell_type": "code",
   "execution_count": 1,
   "id": "3a74a057-4a14-400d-928b-fc499b61dfc6",
   "metadata": {},
   "outputs": [
    {
     "data": {
      "image/png": "[encoded data removed]",
      "text/plain": [
       "<Figure size 432x288 with 1 Axes>"
      ]
     },
     "metadata": {
      "needs_background": "light"
     },
     "output_type": "display_data"
    },
    {
     "name": "stdout",
     "output_type": "stream",
     "text": [
      "Posterior mean: 0.9669\n",
      "Posterior std: 1.5919\n"
     ]
    },
    {
     "data": {
      "image/png": "[encoded data removed]",
      "text/plain": [
       "<Figure size 432x288 with 1 Axes>"
      ]
     },
     "metadata": {
      "needs_background": "light"
     },
     "output_type": "display_data"
    }
   ],
   "source": [
    "\"\"\"\n",
    "Stochastic Gradient Langevin Dynamics (Welling, Teh, ICML 2011)\n",
    "---------------------------------------------------------------\n",
    "Example of simple SGLD sampling the posterior of param of 1D linear regression.\n",
    "\"\"\"\n",
    "import numpy as np\n",
    "import seaborn as sns\n",
    "import matplotlib.pyplot as plt\n",
    "\n",
    "\n",
    "a = 1.2\n",
    "x = 1.5\n",
    "r = 0.2\n",
    "\n",
    "# Noisy data\n",
    "y = np.random.poisson(a*x+r,1)  # Simple linear sample from POISSON noise\n",
    "\n",
    "eps = 0.001  # step size\n",
    "sigma_b = 10  # variance factor relating the SGD and the Langevin dynamics phase\n",
    "x_t = 10   # initial param\n",
    "\n",
    "beta = 1\n",
    "\n",
    "N_iter = 5000\n",
    "\n",
    "samples = np.zeros(N_iter)\n",
    "samples[0] = x_t\n",
    "\n",
    "for t in range(1, N_iter):\n",
    "    # print(x_t)\n",
    "\n",
    "    eps_t = eps  # constant learning rate : converge super quickly\n",
    "    # eps_t = eps / t  # Annealed learning rate : do not converge ...\n",
    "    eta = np.random.normal(0, np.sqrt(eps * sigma_b))  # GAUSSIAN Noise\n",
    "    # eta = 0 # no noise\n",
    "    \n",
    "    grad_logprior = -beta * x_t  # prior = N(w | 0, 1) # with prior : CV better to x=1.5, depending on beta as we do not have lots of data\n",
    "    # grad_logprior = 0 # without prior : CV to (y-r)/a\n",
    "    # whole dataset\n",
    "    grad_POSITIVE_loglik = a*y[0] / (a*x_t+r) - a  # lik = poisson\n",
    "    grad_logpost = grad_logprior + grad_POSITIVE_loglik  # whole dataset\n",
    "\n",
    "    delta = eps_t / 2 * grad_logpost + eta\n",
    "    x_t += delta\n",
    "\n",
    "    samples[t] = x_t\n",
    "\n",
    "burnin = 1000  # burn-in samples to be discarded\n",
    "\n",
    "plt.plot(np.arange(1,N_iter+1),samples,color='blue')\n",
    "plt.plot(np.arange(1,N_iter+1),(y-r)/a*np.ones(N_iter),color='red',label='(y-r)/a')\n",
    "plt.plot(np.arange(1,N_iter+1),x*np.ones(N_iter),color='black',label='x')\n",
    "plt.legend()\n",
    "\n",
    "plt.show()\n",
    "\n",
    "samples = samples[burnin:]\n",
    "\n",
    "x_hat = np.mean(samples)\n",
    "\n",
    "print('Posterior mean: {:.4f}'.format(x_hat))\n",
    "print('Posterior std: {:.4f}'.format(np.std(samples)))\n",
    "\n",
    "sns.histplot(samples)\n",
    "plt.show()"
   ]
  },
  {
   "cell_type": "markdown",
   "id": "4d92dafe-c27a-43f1-b679-a54d873f0a18",
   "metadata": {},
   "source": [
    "## Gradient descent, constant stepsize, one sample\n",
    "CV to (y-r)/a if only likelihood, between (y-r)/a and x if prior"
   ]
  },
  {
   "cell_type": "code",
   "execution_count": 2,
   "id": "126fbfc3-716d-4fa1-965a-5ff43044d05b",
   "metadata": {},
   "outputs": [
    {
     "data": {
      "image/png": "[encoded data removed]",
      "text/plain": [
       "<Figure size 432x288 with 1 Axes>"
      ]
     },
     "metadata": {
      "needs_background": "light"
     },
     "output_type": "display_data"
    },
    {
     "name": "stdout",
     "output_type": "stream",
     "text": [
      "x hat: 0.4423\n"
     ]
    }
   ],
   "source": [
    "\"\"\"\n",
    "Stochastic Gradient Langevin Dynamics (Welling, Teh, ICML 2011)\n",
    "---------------------------------------------------------------\n",
    "Example of simple SGLD sampling the posterior of param of 1D linear regression.\n",
    "\"\"\"\n",
    "import numpy as np\n",
    "import seaborn as sns\n",
    "import matplotlib.pyplot as plt\n",
    "\n",
    "\n",
    "a = 1.2\n",
    "x = 1.5\n",
    "r = 0.2\n",
    "\n",
    "# Noisy data\n",
    "y = np.random.poisson(a*x+r,1)  # Simple linear sample from POISSON noise\n",
    "\n",
    "eps = 0.01  # step size\n",
    "x_t = 10   # initial param\n",
    "\n",
    "beta = 1\n",
    "\n",
    "N_iter = 5000\n",
    "\n",
    "samples = np.zeros(N_iter)\n",
    "samples[0] = x_t\n",
    "\n",
    "for t in range(1, N_iter):\n",
    "    # print(x_t)\n",
    "\n",
    "    eps_t = eps  # constant learning rate : converge super quickly\n",
    "    # eps_t = eps / t  # Annealed learning rate : do not converge ...\n",
    "    # eta = np.random.normal(0, np.sqrt(eps_t))  # GAUSSIAN Noise\n",
    "    eta = 0 # no noise\n",
    "    \n",
    "    grad_logprior = -beta * x_t  # prior = N(w | 0, 1) # with prior : CV better to x=1.5, depending on beta as we do not have lots of data\n",
    "    # grad_logprior = 0 # without prior : CV to (y-r)/a\n",
    "    # whole dataset\n",
    "    grad_POSITIVE_loglik = a*y[0] / (a*x_t+r) - a  # lik = poisson\n",
    "    grad_logpost = grad_logprior + grad_POSITIVE_loglik  # whole dataset\n",
    "\n",
    "    delta = eps_t / 2 * grad_logpost + eta\n",
    "    x_t += delta\n",
    "\n",
    "    samples[t] = x_t\n",
    "\n",
    "plt.plot(np.arange(1,N_iter+1),samples,color='blue')\n",
    "plt.plot(np.arange(1,N_iter+1),(y-r)/a*np.ones(N_iter),color='red',label='(y-r)/a')\n",
    "plt.plot(np.arange(1,N_iter+1),x*np.ones(N_iter),color='black',label='x')\n",
    "plt.legend()\n",
    "\n",
    "plt.show()\n",
    "\n",
    "x_hat = samples[-1]\n",
    "print('x hat: {:.4f}'.format(x_hat))"
   ]
  },
  {
   "cell_type": "markdown",
   "id": "1bc76881-a1cc-4b68-9285-8923f164f4b1",
   "metadata": {},
   "source": [
    "## Gradient descent, constant stepsize, N samples\n",
    "CV to x if only likelihood, between (y-r)/a and x if prior"
   ]
  },
  {
   "cell_type": "code",
   "execution_count": 3,
   "id": "56573acd-3da6-4ee6-a69f-e3473f3ca0e4",
   "metadata": {
    "tags": []
   },
   "outputs": [
    {
     "data": {
      "image/png": "[encoded data removed]",
      "text/plain": [
       "<Figure size 432x288 with 1 Axes>"
      ]
     },
     "metadata": {
      "needs_background": "light"
     },
     "output_type": "display_data"
    },
    {
     "name": "stdout",
     "output_type": "stream",
     "text": [
      "x hat: 1.4950\n"
     ]
    }
   ],
   "source": [
    "\"\"\"\n",
    "Stochastic Gradient Langevin Dynamics (Welling, Teh, ICML 2011)\n",
    "---------------------------------------------------------------\n",
    "Example of simple SGLD sampling the posterior of param of 1D linear regression.\n",
    "\"\"\"\n",
    "import numpy as np\n",
    "import seaborn as sns\n",
    "import matplotlib.pyplot as plt\n",
    "\n",
    "\n",
    "a = 1.2\n",
    "x = 1.5\n",
    "r = 0.2\n",
    "\n",
    "N=1000\n",
    "n=50\n",
    "\n",
    "# Noisy data\n",
    "y = np.random.poisson(a*x+r,N)  # Simple linear sample from POISSON noise\n",
    "\n",
    "eps = 0.01  # step size\n",
    "x_t = 10   # initial param\n",
    "\n",
    "beta = 0\n",
    "\n",
    "N_iter = 5000\n",
    "\n",
    "samples = np.zeros(N_iter)\n",
    "samples[0] = x_t\n",
    "\n",
    "for t in range(1, N_iter):\n",
    "    # print(x_t)\n",
    "\n",
    "    eps_t = eps  # constant learning rate : converge super quickly\n",
    "    # eps_t = eps / t  # Annealed learning rate : do not converge ...\n",
    "    eta = np.random.normal(0, np.sqrt(eps_t))  # GAUSSIAN Noise\n",
    "    eta = 0 # no noise\n",
    "    \n",
    "    grad_logprior = -beta * x_t  # prior = N(w | 0, 1) # with prior : CV better to x=1.5, depending on beta as we do not have lots of data\n",
    "    # grad_logprior = 0 # without prior : CV to (y-r)/a\n",
    "    # whole dataset\n",
    "    grad_POSITIVE_loglik = a*np.mean(y) / (a*x_t+r) - a  # lik = poisson\n",
    "    grad_logpost = grad_logprior + grad_POSITIVE_loglik  # whole dataset\n",
    "\n",
    "    delta = eps_t / 2 * grad_logpost + eta\n",
    "    x_t += delta\n",
    "\n",
    "    samples[t] = x_t\n",
    "\n",
    "burnin = 0  # burn-in samples to be discarded\n",
    "\n",
    "plt.plot(np.arange(1,N_iter+1),samples,color='blue')\n",
    "# plt.plot(np.arange(1,N_iter+1),(y-r)/a*np.ones(N_iter),color='red',label='(y-r)/a')\n",
    "plt.plot(np.arange(1,N_iter+1),x*np.ones(N_iter),color='black',label='x')\n",
    "plt.legend()\n",
    "\n",
    "plt.show()\n",
    "\n",
    "x_hat = samples[-1]\n",
    "print('x hat: {:.4f}'.format(x_hat))"
   ]
  },
  {
   "cell_type": "markdown",
   "id": "7dcd952e-f245-46fc-b08f-6dd26c233e55",
   "metadata": {},
   "source": [
    "## Gradient descent with preconditioner, constant stepsize, N samples\n",
    "????? CV to x if only likelihood, between (y-r)/a and x if prior"
   ]
  },
  {
   "cell_type": "code",
   "execution_count": 4,
   "id": "072795a2-425a-44ee-9c6f-ac537f780d5e",
   "metadata": {
    "tags": []
   },
   "outputs": [
    {
     "data": {
      "image/png": "[encoded data removed]",
      "text/plain": [
       "<Figure size 432x288 with 1 Axes>"
      ]
     },
     "metadata": {
      "needs_background": "light"
     },
     "output_type": "display_data"
    },
    {
     "name": "stdout",
     "output_type": "stream",
     "text": [
      "x hat: 1.4492\n"
     ]
    }
   ],
   "source": [
    "\"\"\"\n",
    "Stochastic Gradient Langevin Dynamics (Welling, Teh, ICML 2011)\n",
    "---------------------------------------------------------------\n",
    "Example of simple SGLD sampling the posterior of param of 1D linear regression.\n",
    "\"\"\"\n",
    "import numpy as np\n",
    "import seaborn as sns\n",
    "import matplotlib.pyplot as plt\n",
    "\n",
    "\n",
    "a = 1.2\n",
    "x = 1.5\n",
    "r = 0.2\n",
    "\n",
    "N=1000\n",
    "n=50\n",
    "\n",
    "# Noisy data\n",
    "y = np.random.poisson(a*x+r,N)  # Simple linear sample from POISSON noise\n",
    "\n",
    "eps = 0.01  # step size\n",
    "x_t = 10   # initial param\n",
    "\n",
    "beta = 0\n",
    "\n",
    "N_iter = 5000\n",
    "\n",
    "samples = np.zeros(N_iter)\n",
    "samples[0] = x_t\n",
    "\n",
    "for t in range(1, N_iter):\n",
    "    # print(x_t)\n",
    "\n",
    "    eps_t = eps  # constant learning rate : converge super quickly\n",
    "    # eps_t = eps / t  # Annealed learning rate : do not converge ...\n",
    "    eta = np.random.normal(0, np.sqrt(eps_t))  # GAUSSIAN Noise\n",
    "    eta = 0 # no noise\n",
    "    \n",
    "    grad_logprior = -beta * x_t  # prior = N(w | 0, 1) # with prior : CV better to x=1.5, depending on beta as we do not have lots of data\n",
    "    # grad_logprior = 0 # without prior : CV to (y-r)/a\n",
    "    # whole dataset\n",
    "    grad_POSITIVE_loglik = a*np.mean(y) / (a*x_t+r) - a  # lik = poisson\n",
    "    grad_logpost = grad_logprior + grad_POSITIVE_loglik  # whole dataset\n",
    "\n",
    "    precond = 1\n",
    "    #precond = 1 / a # a few worse than without precond\n",
    "    #precond = x_t / a # MLEM precond is great\n",
    "    \n",
    "    delta = precond * eps_t / 2 * grad_logpost + np.sqrt(precond) * eta\n",
    "    x_t += delta\n",
    "\n",
    "    samples[t] = x_t\n",
    "\n",
    "burnin = 0  # burn-in samples to be discarded\n",
    "\n",
    "plt.plot(np.arange(1,N_iter+1),samples,color='blue')\n",
    "# plt.plot(np.arange(1,N_iter+1),(y-r)/a*np.ones(N_iter),color='red',label='(y-r)/a')\n",
    "plt.plot(np.arange(1,N_iter+1),x*np.ones(N_iter),color='black',label='x')\n",
    "plt.legend()\n",
    "\n",
    "plt.show()\n",
    "\n",
    "x_hat = samples[-1]\n",
    "print('x hat: {:.4f}'.format(x_hat))"
   ]
  },
  {
   "cell_type": "markdown",
   "id": "8496443a-6b80-497a-938e-e79f6c8a0e37",
   "metadata": {},
   "source": [
    "## SGLD, annealed stepsize, N samples\n",
    "CV to x"
   ]
  },
  {
   "cell_type": "code",
   "execution_count": 32,
   "id": "8e114dd0-f4c6-496c-9ed5-5ed5872e4706",
   "metadata": {},
   "outputs": [
    {
     "data": {
      "image/png": "[encoded data removed]",
      "text/plain": [
       "<Figure size 432x288 with 1 Axes>"
      ]
     },
     "metadata": {
      "needs_background": "light"
     },
     "output_type": "display_data"
    },
    {
     "name": "stdout",
     "output_type": "stream",
     "text": [
      "[1.5519709  1.5519414  1.55191548 1.55189262 1.55187239 1.55185443\n",
      " 1.55183844 1.55182416 1.55181138 1.55179989 1.55178956 1.55178023\n",
      " 1.55177179 1.55176415 1.5517572  1.55175088 1.55174511 1.55173985\n",
      " 1.55173502 1.5517306  1.55172655 1.55172281 1.55171937 1.5517162\n",
      " 1.55171327 1.55171056 1.55170804 1.55170571 1.55170355 1.55170154\n",
      " 1.55169966 1.55169792 1.55169629 1.55169477 1.55169335 1.55169202\n",
      " 1.55169077 1.5516896  1.5516885  1.55168747 1.5516865  1.55168559\n",
      " 1.55168473 1.55168393 1.55168316 1.55168244 1.55168176 1.55168112\n",
      " 1.55168051 1.55167994 1.55167939 1.55167887 1.55167838 1.55167792\n",
      " 1.55167748 1.55167706 1.55167666 1.55167628 1.55167592 1.55167558\n",
      " 1.55167525 1.55167494 1.55167464 1.55167435 1.55167408 1.55167382\n",
      " 1.55167358 1.55167334 1.55167311 1.5516729  1.55167269 1.55167249\n",
      " 1.5516723  1.55167212 1.55167195 1.55167178 1.55167162 1.55167146\n",
      " 1.55167131 1.55167117 1.55167104 1.5516709  1.55167078 1.55167066\n",
      " 1.55167054 1.55167043 1.55167032 1.55167021 1.55167011 1.55167002\n",
      " 1.55166992 1.55166983 1.55166974 1.55166966 1.55166958 1.5516695\n",
      " 1.55166943 1.55166935 1.55166928 1.55166921 1.55166915 1.55166908\n",
      " 1.55166902 1.55166896 1.55166891 1.55166885 1.5516688  1.55166874\n",
      " 1.55166869 1.55166864 1.5516686  1.55166855 1.5516685  1.55166846\n",
      " 1.55166842 1.55166838 1.55166834 1.5516683  1.55166826 1.55166823\n",
      " 1.55166819 1.55166816 1.55166812 1.55166809 1.55166806 1.55166803\n",
      " 1.551668   1.55166797 1.55166794 1.55166792 1.55166789 1.55166787\n",
      " 1.55166784 1.55166782 1.55166779 1.55166777 1.55166775 1.55166772\n",
      " 1.5516677  1.55166768 1.55166766 1.55166764 1.55166762 1.5516676\n",
      " 1.55166759 1.55166757 1.55166755 1.55166753 1.55166752 1.5516675\n",
      " 1.55166749 1.55166747 1.55166745 1.55166744 1.55166743 1.55166741\n",
      " 1.5516674  1.55166739 1.55166737 1.55166736 1.55166735 1.55166733\n",
      " 1.55166732 1.55166731 1.5516673  1.55166729 1.55166728 1.55166727\n",
      " 1.55166726 1.55166725 1.55166724 1.55166723 1.55166722 1.55166721\n",
      " 1.5516672  1.55166719 1.55166718 1.55166717 1.55166717 1.55166716\n",
      " 1.55166715 1.55166714 1.55166713 1.55166713 1.55166712 1.55166711\n",
      " 1.5516671  1.5516671  1.55166709 1.55166708 1.55166708 1.55166707\n",
      " 1.55166707 1.55166706 1.55166705 1.55166705 1.55166704 1.55166704\n",
      " 1.55166703 1.55166703 1.55166702 1.55166701 1.55166701 1.551667\n",
      " 1.551667   1.55166699 1.55166699 1.55166699 1.55166698 1.55166698\n",
      " 1.55166697 1.55166697 1.55166696 1.55166696 1.55166695 1.55166695\n",
      " 1.55166695 1.55166694 1.55166694 1.55166694 1.55166693 1.55166693\n",
      " 1.55166692 1.55166692 1.55166692 1.55166691 1.55166691 1.55166691\n",
      " 1.5516669  1.5516669  1.5516669  1.5516669  1.55166689 1.55166689\n",
      " 1.55166689 1.55166688 1.55166688 1.55166688 1.55166688 1.55166687\n",
      " 1.55166687 1.55166687 1.55166687 1.55166686 1.55166686 1.55166686\n",
      " 1.55166686 1.55166685 1.55166685 1.55166685 1.55166685 1.55166684\n",
      " 1.55166684 1.55166684 1.55166684 1.55166684 1.55166683 1.55166683\n",
      " 1.55166683 1.55166683 1.55166683 1.55166682 1.55166682 1.55166682\n",
      " 1.55166682 1.55166682 1.55166681 1.55166681 1.55166681 1.55166681\n",
      " 1.55166681 1.55166681 1.5516668  1.5516668  1.5516668  1.5516668\n",
      " 1.5516668  1.5516668  1.5516668  1.55166679 1.55166679 1.55166679\n",
      " 1.55166679 1.55166679 1.55166679 1.55166679 1.55166678 1.55166678\n",
      " 1.55166678 1.55166678 1.55166678 1.55166678 1.55166678 1.55166678\n",
      " 1.55166678 1.55166677 1.55166677 1.55166677 1.55166677 1.55166677\n",
      " 1.55166677 1.55166677 1.55166677 1.55166677 1.55166676 1.55166676\n",
      " 1.55166676 1.55166676 1.55166676 1.55166676 1.55166676 1.55166676\n",
      " 1.55166676 1.55166676 1.55166675 1.55166675 1.55166675 1.55166675\n",
      " 1.55166675 1.55166675 1.55166675 1.55166675 1.55166675 1.55166675\n",
      " 1.55166675 1.55166675 1.55166675 1.55166674 1.55166674 1.55166674\n",
      " 1.55166674 1.55166674 1.55166674 1.55166674 1.55166674 1.55166674\n",
      " 1.55166674 1.55166674 1.55166674 1.55166674 1.55166674 1.55166673\n",
      " 1.55166673 1.55166673 1.55166673 1.55166673 1.55166673 1.55166673\n",
      " 1.55166673 1.55166673 1.55166673 1.55166673 1.55166673 1.55166673\n",
      " 1.55166673 1.55166673 1.55166673 1.55166673 1.55166672 1.55166672\n",
      " 1.55166672 1.55166672 1.55166672 1.55166672 1.55166672 1.55166672\n",
      " 1.55166672 1.55166672 1.55166672 1.55166672 1.55166672 1.55166672\n",
      " 1.55166672 1.55166672 1.55166672 1.55166672 1.55166672 1.55166672\n",
      " 1.55166672 1.55166672 1.55166671 1.55166671 1.55166671 1.55166671\n",
      " 1.55166671 1.55166671 1.55166671 1.55166671 1.55166671 1.55166671\n",
      " 1.55166671 1.55166671 1.55166671 1.55166671 1.55166671 1.55166671\n",
      " 1.55166671 1.55166671 1.55166671 1.55166671 1.55166671 1.55166671\n",
      " 1.55166671 1.55166671 1.55166671 1.55166671 1.55166671 1.55166671\n",
      " 1.5516667  1.5516667  1.5516667  1.5516667  1.5516667  1.5516667\n",
      " 1.5516667  1.5516667  1.5516667  1.5516667  1.5516667  1.5516667\n",
      " 1.5516667  1.5516667  1.5516667  1.5516667  1.5516667  1.5516667\n",
      " 1.5516667  1.5516667  1.5516667  1.5516667  1.5516667  1.5516667\n",
      " 1.5516667  1.5516667  1.5516667  1.5516667  1.5516667  1.5516667\n",
      " 1.5516667  1.5516667  1.5516667  1.5516667  1.5516667  1.5516667\n",
      " 1.5516667  1.5516667  1.5516667  1.5516667  1.55166669 1.55166669\n",
      " 1.55166669 1.55166669 1.55166669 1.55166669 1.55166669 1.55166669\n",
      " 1.55166669 1.55166669 1.55166669 1.55166669 1.55166669 1.55166669\n",
      " 1.55166669 1.55166669 1.55166669 1.55166669 1.55166669 1.55166669\n",
      " 1.55166669 1.55166669]\n",
      "Posterior mean: 1.5517\n",
      "Posterior std: 0.0000\n"
     ]
    },
    {
     "data": {
      "image/png": "[encoded data removed]",
      "text/plain": [
       "<Figure size 432x288 with 1 Axes>"
      ]
     },
     "metadata": {
      "needs_background": "light"
     },
     "output_type": "display_data"
    },
    {
     "name": "stdout",
     "output_type": "stream",
     "text": [
      "Posterior mean: 2.0620\n",
      "Posterior std: 1.4353\n"
     ]
    },
    {
     "data": {
      "image/png": "[encoded data removed]",
      "text/plain": [
       "<Figure size 432x288 with 1 Axes>"
      ]
     },
     "metadata": {
      "needs_background": "light"
     },
     "output_type": "display_data"
    }
   ],
   "source": [
    "\"\"\"\n",
    "Stochastic Gradient Langevin Dynamics (Welling, Teh, ICML 2011)\n",
    "---------------------------------------------------------------\n",
    "Example of simple SGLD sampling the posterior of param of 1D linear regression.\n",
    "\"\"\"\n",
    "import numpy as np\n",
    "import seaborn as sns\n",
    "import matplotlib.pyplot as plt\n",
    "\n",
    "\n",
    "a = 1.2\n",
    "x = 1.5\n",
    "r = 0.2\n",
    "\n",
    "N=1000\n",
    "n=50\n",
    "\n",
    "# Noisy data\n",
    "y = np.random.poisson(a*x+r,N)  # Simple linear sample from POISSON noise\n",
    "\n",
    "eps = 0.01  # step size\n",
    "x_t = 2   # initial param\n",
    "\n",
    "beta = 0\n",
    "\n",
    "N_iter = 500\n",
    "\n",
    "samples = np.zeros(N_iter)\n",
    "samples[0] = x_t\n",
    "\n",
    "for t in range(1, N_iter):\n",
    "    # print(x_t)\n",
    "\n",
    "    if (t < N_iter / 1):\n",
    "        eps_t = 2 * 1 / (0.2*t+1) # annealed learning rate\n",
    "        # eps_t = 2 * 1 / (0.2*t+1)  # annealed learning rate BSREM\n",
    "        # print(eps_t)\n",
    "    else:\n",
    "        eps_t = eps_t  # constant learning rate\n",
    "    eta = np.random.normal(0, np.sqrt(eps_t))  # GAUSSIAN Noise\n",
    "    eta = 0 # no noise\n",
    "    \n",
    "    grad_logprior = -beta * x_t  # prior = N(w | 0, 1) # with prior : CV better to x=1.5, depending on beta as we do not have lots of data\n",
    "    # grad_logprior = 0 # without prior : CV to (y-r)/a\n",
    "    # whole dataset\n",
    "    grad_POSITIVE_loglik = a*np.mean(y) / (a*x_t+r) - a  # lik = poisson\n",
    "    grad_logpost = grad_logprior + grad_POSITIVE_loglik  # whole dataset\n",
    "\n",
    "    precond = 1\n",
    "    #precond = 1 / a # a few worse than without precond\n",
    "    #precond = x_t / a # MLEM precond is great\n",
    "    \n",
    "    delta = precond * eps_t / 2 * grad_logpost + np.sqrt(np.abs(precond)) * eta\n",
    "    x_t += delta\n",
    "    \n",
    "    if (x_t < 0):\n",
    "        x_t = 0\n",
    "\n",
    "    samples[t] = x_t\n",
    "\n",
    "burnin = 30  # burn-in samples to be discarded\n",
    "\n",
    "plt.plot(np.arange(1,N_iter+1),samples,color='blue')\n",
    "# plt.plot(np.arange(1,N_iter+1),(y-r)/a*np.ones(N_iter),color='red',label='(y-r)/a')\n",
    "plt.plot(np.arange(1,N_iter+1),x*np.ones(N_iter),color='black',label='x')\n",
    "plt.legend()\n",
    "\n",
    "plt.show()\n",
    "\n",
    "samples = samples[burnin:]\n",
    "\n",
    "x_hat = np.mean(samples)\n",
    "\n",
    "print('Posterior mean: {:.4f}'.format(x_hat))\n",
    "print('Posterior std: {:.4f}'.format(np.std(samples)))\n",
    "\n",
    "sns.histplot(samples)\n",
    "plt.xlabel('x')\n",
    "plt.ylabel('likelihood p(y|x)')\n",
    "plt.show()\n",
    "\n",
    "# true Poisson distribution (likelihood)\n",
    "\n",
    "print('Posterior mean: {:.4f}'.format(np.mean(y)))\n",
    "print('Posterior std: {:.4f}'.format(np.std(y)))\n",
    "\n",
    "sns.histplot(y)\n",
    "plt.xlabel('y')\n",
    "plt.ylabel('likelihood p(y|x)')\n",
    "plt.show()"
   ]
  },
  {
   "cell_type": "markdown",
   "id": "730a5479-11ce-4c96-9847-2b67fd39b410",
   "metadata": {},
   "source": [
    "## SGLD, linear regression with gaussian noise, annealed stepsize, N samples"
   ]
  },
  {
   "cell_type": "code",
   "execution_count": 6,
   "id": "c1e7c6b4-b191-402f-b5ca-654d97cfa782",
   "metadata": {},
   "outputs": [
    {
     "data": {
      "image/png": "[encoded data removed]",
      "text/plain": [
       "<Figure size 432x288 with 1 Axes>"
      ]
     },
     "metadata": {
      "needs_background": "light"
     },
     "output_type": "display_data"
    },
    {
     "name": "stdout",
     "output_type": "stream",
     "text": [
      "Posterior mean: 1.4960\n",
      "Posterior std: 0.0085\n"
     ]
    },
    {
     "data": {
      "image/png": "[encoded data removed]",
      "text/plain": [
       "<Figure size 432x288 with 1 Axes>"
      ]
     },
     "metadata": {
      "needs_background": "light"
     },
     "output_type": "display_data"
    },
    {
     "data": {
      "image/png": "[encoded data removed]",
      "text/plain": [
       "<Figure size 432x288 with 1 Axes>"
      ]
     },
     "metadata": {
      "needs_background": "light"
     },
     "output_type": "display_data"
    }
   ],
   "source": [
    "\"\"\"\n",
    "Stochastic Gradient Langevin Dynamics (Welling, Teh, ICML 2011)\n",
    "---------------------------------------------------------------\n",
    "Example of simple SGLD sampling the posterior of param of 1D linear regression.\n",
    "\"\"\"\n",
    "import numpy as np\n",
    "import seaborn as sns\n",
    "import matplotlib.pyplot as plt\n",
    "\n",
    "\n",
    "N = 100\n",
    "n = 50  # minibatch size\n",
    "true_theta = 1.5\n",
    "\n",
    "# Noisy data\n",
    "X = np.linspace(0, 10, num=N)\n",
    "y = true_theta * X + np.random.randn(N)  # Simple linear regression with GAUSSIAN noise\n",
    "# y = true_theta * X + np.random.uniform(-np.sqrt(3),np.sqrt(3),N)  # Simple linear regression with UNIFORM noise\n",
    "# y = true_theta * X + np.random.poisson(1,N)  # Simple linear regression with POISSON noise\n",
    "plt.scatter(X, y)\n",
    "plt.show()\n",
    "\n",
    "eps = 0.1  # step size\n",
    "theta = -60   # initial param\n",
    "\n",
    "lambda_sigma_2 = 30\n",
    "\n",
    "N_iter = 20000\n",
    "\n",
    "samples = np.zeros(N_iter)\n",
    "samples[0] = theta\n",
    "\n",
    "for t in range(1, N_iter):\n",
    "    # print(theta)\n",
    "    mb_idxs = np.random.randint(0, N, size=n)\n",
    "    x_mb, y_mb = X[mb_idxs], y[mb_idxs]\n",
    "\n",
    "    eps_t = eps / t  # Annealed learning rate\n",
    "    eta = np.random.normal(0, np.sqrt(eps_t))  # GAUSSIAN Noise\n",
    "    # eta = np.random.uniform(-np.sqrt(3*eps_t),np.sqrt(3*eps_t))  # UNIFORM Noise\n",
    "    # eta = 0 # no noise\n",
    "    \n",
    "    grad_logprior = theta  # prior = N(w | 0, 1)\n",
    "    # subset\n",
    "    # grad_loglik = np.sum(y_mb - theta*x_mb)  # lik = N(y | wx, 1)\n",
    "    # grad_logpost = grad_logprior + N/n * grad_loglik  # N/n: scale correction\n",
    "    # whole dataset\n",
    "    grad_loglik = np.sum(y - theta*X)  # lik = N(y | wx, 1)\n",
    "    grad_logpost = grad_logprior + lambda_sigma_2 * grad_loglik  # whole dataset\n",
    "\n",
    "    delta = eps_t/2 * grad_logpost + eta\n",
    "    theta = theta + delta\n",
    "\n",
    "    samples[t] = theta\n",
    "\n",
    "burnin = 10000  # burn-in samples to be discarded\n",
    "samples = samples[burnin:]\n",
    "\n",
    "theta_expected = np.mean(samples)\n",
    "\n",
    "print('Posterior mean: {:.4f}'.format(theta_expected))\n",
    "print('Posterior std: {:.4f}'.format(np.std(samples)))\n",
    "\n",
    "sns.histplot(samples)\n",
    "plt.show()\n",
    "\n",
    "y_pred = theta_expected*X\n",
    "\n",
    "plt.scatter(X, y)\n",
    "plt.plot(X, y_pred, color='red', alpha=0.5)\n",
    "plt.show()"
   ]
  },
  {
   "cell_type": "markdown",
   "id": "4764f652-a37b-4ed8-a086-5c10f95d81c4",
   "metadata": {},
   "source": [
    "## SGLD, linear regression with gaussian noise, annealed stepsize, N samples, step sizes to weight the samples (only useful to compute expectation or also to have posterior distribution ?)"
   ]
  },
  {
   "cell_type": "code",
   "execution_count": 7,
   "id": "0883f219-e5ca-480b-955b-7633d5b8481a",
   "metadata": {},
   "outputs": [
    {
     "data": {
      "image/png": "[encoded data removed]",
      "text/plain": [
       "<Figure size 432x288 with 1 Axes>"
      ]
     },
     "metadata": {
      "needs_background": "light"
     },
     "output_type": "display_data"
    },
    {
     "name": "stdout",
     "output_type": "stream",
     "text": [
      "Posterior mean: 1.4982\n",
      "Posterior std: 0.0082\n"
     ]
    },
    {
     "data": {
      "image/png": "[encoded data removed]",
      "text/plain": [
       "<Figure size 432x288 with 1 Axes>"
      ]
     },
     "metadata": {
      "needs_background": "light"
     },
     "output_type": "display_data"
    }
   ],
   "source": [
    "\"\"\"\n",
    "Stochastic Gradient Langevin Dynamics (Welling, Teh, ICML 2011)\n",
    "---------------------------------------------------------------\n",
    "Example of simple SGLD sampling the posterior of param of 1D linear regression.\n",
    "\"\"\"\n",
    "import numpy as np\n",
    "import seaborn as sns\n",
    "import matplotlib.pyplot as plt\n",
    "\n",
    "\n",
    "N = 100\n",
    "n = 50  # minibatch size\n",
    "true_theta = 1.5\n",
    "\n",
    "# Noisy data\n",
    "X = np.linspace(0, 10, num=N)\n",
    "y = true_theta * X + np.random.randn(N)  # Simple linear regression with GAUSSIAN noise\n",
    "# y = true_theta * X + np.random.uniform(-np.sqrt(3),np.sqrt(3),N)  # Simple linear regression with UNIFORM noise\n",
    "# y = true_theta * X + np.random.poisson(1,N)  # Simple linear regression with POISSON noise\n",
    "plt.scatter(X, y)\n",
    "plt.show()\n",
    "\n",
    "N_iter = 20000\n",
    "\n",
    "t_list = np.arange(1, N_iter)\n",
    "eps_list = 0.1 / t_list  # step sizes\n",
    "theta = -60   # initial param\n",
    "\n",
    "lambda_sigma_2 = 30\n",
    "\n",
    "samples = np.zeros(N_iter)\n",
    "samples[0] = theta\n",
    "\n",
    "for t in t_list:\n",
    "    # print(theta)\n",
    "    mb_idxs = np.random.randint(0, N, size=n)\n",
    "    x_mb, y_mb = X[mb_idxs], y[mb_idxs]\n",
    "\n",
    "    eps_t = eps_list[t-1]  # Annealed learning rate\n",
    "    eta = np.random.normal(0, np.sqrt(eps_t))  # GAUSSIAN Noise\n",
    "    # eta = np.random.uniform(-np.sqrt(3*eps_t),np.sqrt(3*eps_t))  # UNIFORM Noise\n",
    "    # eta = 0 # no noise\n",
    "    \n",
    "    grad_logprior = theta  # prior = N(w | 0, 1)\n",
    "    # subset\n",
    "    # grad_loglik = np.sum(y_mb - theta*x_mb)  # lik = N(y | wx, 1)\n",
    "    # grad_logpost = grad_logprior + N/n * grad_loglik  # N/n: scale correction\n",
    "    # whole dataset\n",
    "    grad_loglik = np.sum(y - theta*X)  # lik = N(y | wx, 1)\n",
    "    grad_logpost = grad_logprior + lambda_sigma_2 * grad_loglik  # whole dataset\n",
    "\n",
    "    delta = eps_t/2 * grad_logpost + eta\n",
    "    theta = theta + delta\n",
    "\n",
    "    samples[t] = theta\n",
    "\n",
    "burnin = 10000  # burn-in samples to be discarded\n",
    "samples = samples[burnin:]\n",
    "\n",
    "theta_expected = np.mean(samples)\n",
    "\n",
    "print('Posterior mean: {:.4f}'.format(theta_expected))\n",
    "print('Posterior std: {:.4f}'.format(np.std(samples)))\n",
    "\n",
    "# sns.distplot(samples,hist_kws={'weights': eps_list[burnin-1:]})\n",
    "plt.show()\n",
    "\n",
    "y_pred = theta_expected*X\n",
    "\n",
    "plt.scatter(X, y)\n",
    "plt.plot(X, y_pred, color='red', alpha=0.5)\n",
    "plt.show()"
   ]
  },
  {
   "cell_type": "markdown",
   "id": "89e3f5cf-c80b-45be-b60c-26dc163f32aa",
   "metadata": {},
   "source": [
    "## SGLD, linear regression y=Ax+ b +noise with gaussian noise, annealed stepsize, N samples"
   ]
  },
  {
   "cell_type": "code",
   "execution_count": 8,
   "id": "bffae948-0802-40f2-8990-3d68734ef731",
   "metadata": {},
   "outputs": [
    {
     "data": {
      "image/png": "[encoded data removed]",
      "text/plain": [
       "<Figure size 432x288 with 1 Axes>"
      ]
     },
     "metadata": {
      "needs_background": "light"
     },
     "output_type": "display_data"
    },
    {
     "name": "stdout",
     "output_type": "stream",
     "text": [
      "Posterior mean: 1.5224\n",
      "Posterior std: 0.0084\n"
     ]
    },
    {
     "data": {
      "image/png": "[encoded data removed]",
      "text/plain": [
       "<Figure size 432x288 with 1 Axes>"
      ]
     },
     "metadata": {
      "needs_background": "light"
     },
     "output_type": "display_data"
    },
    {
     "data": {
      "image/png": "[encoded data removed]",
      "text/plain": [
       "<Figure size 432x288 with 1 Axes>"
      ]
     },
     "metadata": {
      "needs_background": "light"
     },
     "output_type": "display_data"
    }
   ],
   "source": [
    "\"\"\"\n",
    "Stochastic Gradient Langevin Dynamics (Welling, Teh, ICML 2011)\n",
    "---------------------------------------------------------------\n",
    "Example of simple SGLD sampling the posterior of param of 1D linear regression.\n",
    "\"\"\"\n",
    "import numpy as np\n",
    "import seaborn as sns\n",
    "import matplotlib.pyplot as plt\n",
    "\n",
    "\n",
    "N = 100\n",
    "n = 50  # minibatch size\n",
    "true_theta = 1.5\n",
    "\n",
    "# Noisy data\n",
    "X = np.linspace(0, 10, num=N)\n",
    "b = 100*np.ones_like(X)\n",
    "y = true_theta * X + b + np.random.randn(N)  # Simple linear regression with GAUSSIAN noise\n",
    "plt.scatter(X, y)\n",
    "plt.show()\n",
    "\n",
    "eps = 0.1  # step size\n",
    "theta = -60   # initial param\n",
    "\n",
    "lambda_sigma_2 = 30\n",
    "\n",
    "N_iter = 20000\n",
    "\n",
    "samples = np.zeros(N_iter)\n",
    "samples[0] = theta\n",
    "\n",
    "for t in range(1, N_iter):\n",
    "    # print(theta)\n",
    "    mb_idxs = np.random.randint(0, N, size=n)\n",
    "    x_mb, y_mb = X[mb_idxs], y[mb_idxs]\n",
    "\n",
    "    eps_t = eps / t  # Annealed learning rate\n",
    "    eta = np.random.normal(0, np.sqrt(eps_t))  # GAUSSIAN Noise\n",
    "    # eta = np.random.uniform(-np.sqrt(3*eps_t),np.sqrt(3*eps_t))  # UNIFORM Noise\n",
    "    # eta = 0 # no noise\n",
    "    \n",
    "    grad_logprior = theta  # prior = N(w | 0, 1)\n",
    "    # subset\n",
    "    # grad_loglik = np.sum(y_mb - theta*x_mb)  # lik = N(y | wx, 1)\n",
    "    # grad_logpost = grad_logprior + N/n * grad_loglik  # N/n: scale correction\n",
    "    # whole dataset\n",
    "    grad_loglik = np.sum(y - theta*X - b)  # lik = N(y | wx, 1)\n",
    "    grad_logpost = grad_logprior + lambda_sigma_2 * grad_loglik  # whole dataset\n",
    "\n",
    "    delta = eps_t/2 * grad_logpost + eta\n",
    "    theta = theta + delta\n",
    "\n",
    "    samples[t] = theta\n",
    "\n",
    "burnin = 10000  # burn-in samples to be discarded\n",
    "samples = samples[burnin:]\n",
    "\n",
    "theta_expected = np.mean(samples)\n",
    "\n",
    "print('Posterior mean: {:.4f}'.format(theta_expected))\n",
    "print('Posterior std: {:.4f}'.format(np.std(samples)))\n",
    "\n",
    "sns.histplot(samples)\n",
    "plt.show()\n",
    "\n",
    "y_pred = theta_expected*X+b\n",
    "\n",
    "plt.scatter(X, y)\n",
    "plt.plot(X, y_pred, color='red', alpha=0.5)\n",
    "plt.show()"
   ]
  },
  {
   "cell_type": "code",
   "execution_count": null,
   "id": "6b68e7ee-5de2-4092-aab0-754157f5d625",
   "metadata": {},
   "outputs": [],
   "source": []
  }
 ],
 "metadata": {
  "kernelspec": {
   "display_name": "Python 3",
   "language": "python",
   "name": "python3"
  },
  "language_info": {
   "codemirror_mode": {
    "name": "ipython",
    "version": 3
   },
   "file_extension": ".py",
   "mimetype": "text/x-python",
   "name": "python",
   "nbconvert_exporter": "python",
   "pygments_lexer": "ipython3",
   "version": "3.8.8"
  }
 },
 "nbformat": 4,
 "nbformat_minor": 5
}
